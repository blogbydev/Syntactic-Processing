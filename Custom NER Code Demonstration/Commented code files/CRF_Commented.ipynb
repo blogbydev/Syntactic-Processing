{
  "nbformat": 4,
  "nbformat_minor": 0,
  "metadata": {
    "colab": {
      "name": "CRF_Commented.ipynb",
      "provenance": []
    },
    "kernelspec": {
      "name": "python3",
      "display_name": "Python 3"
    },
    "language_info": {
      "name": "python"
    }
  },
  "cells": [
    {
      "cell_type": "markdown",
      "metadata": {
        "id": "FuJZ8hS1Gdp0"
      },
      "source": [
        "For this demo, we will use the [MIT Restaurant Corpus](https://groups.csail.mit.edu/sls/downloads/restaurant/) -- a dataset of transcriptions of spoken utterances about restaurants.\n",
        "\n",
        "The dataset has following entity types:\n",
        "\n",
        "* 'B-Rating'\n",
        "* 'I-Rating',\n",
        "* 'B-Amenity',\n",
        "* 'I-Amenity',\n",
        "* 'B-Location',\n",
        "* 'I-Location',\n",
        "* 'B-Restaurant_Name',\n",
        "* 'I-Restaurant_Name',\n",
        "* 'B-Price',\n",
        "* 'B-Hours',\n",
        "* 'I-Hours',\n",
        "* 'B-Dish',\n",
        "* 'I-Dish',\n",
        "* 'B-Cuisine',\n",
        "* 'I-Price',\n",
        "* 'I-Cuisine'\n",
        "\n",
        "Let us load the dataset and see what are we working with."
      ]
    },
    {
      "cell_type": "code",
      "metadata": {
        "id": "Q0FynEFzDrvb"
      },
      "source": [
        "with open('sent_train', 'r') as train_sent_file:\n",
        "  train_sentences = train_sent_file.readlines()\n",
        "\n",
        "with open('label_train', 'r') as train_labels_file:\n",
        "  train_labels = train_labels_file.readlines()\n",
        "\n",
        "with open('sent_test', 'r') as test_sent_file:\n",
        "  test_sentences = test_sent_file.readlines()\n",
        "\n",
        "with open('label_test', 'r') as test_labels_file:\n",
        "  test_labels = test_labels_file.readlines()\n"
      ],
      "execution_count": 1,
      "outputs": []
    },
    {
      "cell_type": "code",
      "source": [
        "train_sentences[:10]"
      ],
      "metadata": {
        "id": "YweK0KYwZv-U",
        "outputId": "5ec6c498-0c56-40be-cb41-f1dbd9098c3c",
        "colab": {
          "base_uri": "https://localhost:8080/"
        }
      },
      "execution_count": 3,
      "outputs": [
        {
          "output_type": "execute_result",
          "data": {
            "text/plain": [
              "['2 start restaurants with inside dining \\n',\n",
              " '34 \\n',\n",
              " '5 star resturants in my town \\n',\n",
              " '98 hong kong restaurant reasonable prices \\n',\n",
              " 'a great lunch spot but open till 2 a m passims kitchen \\n',\n",
              " 'a place that serves soft serve ice cream \\n',\n",
              " 'a restaurant that is good for groups \\n',\n",
              " 'a salad would make my day \\n',\n",
              " 'a smoothie would hit the spot \\n',\n",
              " 'a steak would be nice \\n']"
            ]
          },
          "metadata": {},
          "execution_count": 3
        }
      ]
    },
    {
      "cell_type": "code",
      "source": [
        "train_labels[:10]"
      ],
      "metadata": {
        "id": "z0KTrL20Z77u",
        "outputId": "fb94c85d-b3de-4b1c-cd37-919998f89854",
        "colab": {
          "base_uri": "https://localhost:8080/"
        }
      },
      "execution_count": 4,
      "outputs": [
        {
          "output_type": "execute_result",
          "data": {
            "text/plain": [
              "['B-Rating I-Rating O O B-Amenity I-Amenity \\n',\n",
              " 'O \\n',\n",
              " 'B-Rating I-Rating O B-Location I-Location I-Location \\n',\n",
              " 'O B-Restaurant_Name I-Restaurant_Name O B-Price O \\n',\n",
              " 'O O O O O B-Hours I-Hours I-Hours I-Hours I-Hours B-Restaurant_Name I-Restaurant_Name \\n',\n",
              " 'O O O O B-Dish I-Dish I-Dish I-Dish \\n',\n",
              " 'O O O O B-Rating B-Amenity I-Amenity \\n',\n",
              " 'O B-Dish O O O O \\n',\n",
              " 'O B-Cuisine O O O O \\n',\n",
              " 'O B-Dish O O O \\n']"
            ]
          },
          "metadata": {},
          "execution_count": 4
        }
      ]
    },
    {
      "cell_type": "code",
      "source": [
        "import spacy"
      ],
      "metadata": {
        "id": "nZ0v-Fn-BCYl"
      },
      "execution_count": 5,
      "outputs": []
    },
    {
      "cell_type": "markdown",
      "metadata": {
        "id": "5WkhbGrdGffs"
      },
      "source": [
        "Let us see some example data points."
      ]
    },
    {
      "cell_type": "code",
      "metadata": {
        "id": "FVNI3boSFgQ1"
      },
      "source": [
        "# Print the 6th sentence in the test set i.e. index value 5.\n",
        "\n",
        "# Print the labels of this sentence\n"
      ],
      "execution_count": null,
      "outputs": []
    },
    {
      "cell_type": "markdown",
      "metadata": {
        "id": "dQSnhug230dr"
      },
      "source": [
        "#Defining Features for Custom NER"
      ]
    },
    {
      "cell_type": "markdown",
      "metadata": {
        "id": "jMwc9lv_3mrW"
      },
      "source": [
        "First, let us install the required modules."
      ]
    },
    {
      "cell_type": "code",
      "metadata": {
        "id": "i9KFfDxN3mWu",
        "outputId": "8fea2bad-6fd8-4695-df69-1d6375de63ef",
        "colab": {
          "base_uri": "https://localhost:8080/"
        }
      },
      "source": [
        "# Install pycrf and crfsuit packages using pip comman\n",
        "!pip install pycrf\n",
        "!pip install sklearn-crfsuite\n",
        "\n"
      ],
      "execution_count": 6,
      "outputs": [
        {
          "output_type": "stream",
          "name": "stdout",
          "text": [
            "Collecting pycrf\n",
            "  Downloading pycrf-0.0.1.tar.gz (1.1 kB)\n",
            "  Preparing metadata (setup.py) ... \u001b[?25l\u001b[?25hdone\n",
            "Building wheels for collected packages: pycrf\n",
            "  Building wheel for pycrf (setup.py) ... \u001b[?25l\u001b[?25hdone\n",
            "  Created wheel for pycrf: filename=pycrf-0.0.1-py3-none-any.whl size=1871 sha256=0d1853b00d9a281dc51cc191708011cbd2eff8324e63a7591081ca49fdc8cbca\n",
            "  Stored in directory: /root/.cache/pip/wheels/e3/d2/c9/ba15b05ba596e2eafeb83c2903e79d634207367555aae8c7d2\n",
            "Successfully built pycrf\n",
            "Installing collected packages: pycrf\n",
            "Successfully installed pycrf-0.0.1\n",
            "Collecting sklearn-crfsuite\n",
            "  Downloading sklearn_crfsuite-0.5.0-py2.py3-none-any.whl.metadata (4.9 kB)\n",
            "Collecting python-crfsuite>=0.9.7 (from sklearn-crfsuite)\n",
            "  Downloading python_crfsuite-0.9.11-cp311-cp311-manylinux_2_17_x86_64.manylinux2014_x86_64.whl.metadata (4.3 kB)\n",
            "Requirement already satisfied: scikit-learn>=0.24.0 in /usr/local/lib/python3.11/dist-packages (from sklearn-crfsuite) (1.6.1)\n",
            "Requirement already satisfied: tabulate>=0.4.2 in /usr/local/lib/python3.11/dist-packages (from sklearn-crfsuite) (0.9.0)\n",
            "Requirement already satisfied: tqdm>=2.0 in /usr/local/lib/python3.11/dist-packages (from sklearn-crfsuite) (4.67.1)\n",
            "Requirement already satisfied: numpy>=1.19.5 in /usr/local/lib/python3.11/dist-packages (from scikit-learn>=0.24.0->sklearn-crfsuite) (1.26.4)\n",
            "Requirement already satisfied: scipy>=1.6.0 in /usr/local/lib/python3.11/dist-packages (from scikit-learn>=0.24.0->sklearn-crfsuite) (1.13.1)\n",
            "Requirement already satisfied: joblib>=1.2.0 in /usr/local/lib/python3.11/dist-packages (from scikit-learn>=0.24.0->sklearn-crfsuite) (1.4.2)\n",
            "Requirement already satisfied: threadpoolctl>=3.1.0 in /usr/local/lib/python3.11/dist-packages (from scikit-learn>=0.24.0->sklearn-crfsuite) (3.5.0)\n",
            "Downloading sklearn_crfsuite-0.5.0-py2.py3-none-any.whl (10 kB)\n",
            "Downloading python_crfsuite-0.9.11-cp311-cp311-manylinux_2_17_x86_64.manylinux2014_x86_64.whl (1.3 MB)\n",
            "\u001b[2K   \u001b[90m━━━━━━━━━━━━━━━━━━━━━━━━━━━━━━━━━━━━━━━━\u001b[0m \u001b[32m1.3/1.3 MB\u001b[0m \u001b[31m16.1 MB/s\u001b[0m eta \u001b[36m0:00:00\u001b[0m\n",
            "\u001b[?25hInstalling collected packages: python-crfsuite, sklearn-crfsuite\n",
            "Successfully installed python-crfsuite-0.9.11 sklearn-crfsuite-0.5.0\n"
          ]
        }
      ]
    },
    {
      "cell_type": "markdown",
      "metadata": {
        "id": "4Hv6kAL9TMpf"
      },
      "source": [
        "\n",
        "\n",
        "We will now start with computing features for our input sequences."
      ]
    },
    {
      "cell_type": "markdown",
      "metadata": {
        "id": "HqvJ-tAz0MzR"
      },
      "source": [
        "We have defined the following features for CRF model building:\n",
        "\n",
        "- f1 = input word is in lower case;\n",
        "- f2 = last 3 characters of word;\n",
        "- f3 = last 2 characers of word;\n",
        "- f4 = 1; if the word is in uppercase, 0 otherwise;\n",
        "- f5 = 1; if word is a number; otherwise, 0\n",
        "- f6= 1; if the word starts with a capital letter; otherwise, 0\n"
      ]
    },
    {
      "cell_type": "code",
      "metadata": {
        "id": "3YVm3JTkFiaM"
      },
      "source": [
        "#Define a function to get the above defined features for a word.\n",
        "def get_features_for_one_word(sentence, pos):\n",
        "  word = sentence[pos]\n",
        "  # input word is lower case\n",
        "  features = [\n",
        "      f'word.lower={word.lower()}',\n",
        "      f'word[-3:]={word[-3:]}',\n",
        "      f'word[-2:]={word[-2:]}',\n",
        "      f'word.isupper={word.isupper()}',\n",
        "      f'word.isdigit={word.isnumeric()}',\n",
        "      f'word.startsWithCapital={word[0].isupper()}'\n",
        "  ]\n",
        "\n",
        "  if(pos > 0):\n",
        "    prev_word = sentence[pos - 1]\n",
        "    features.extend([\n",
        "      'prev_word.lower=' + prev_word.lower(),\n",
        "      'prev_word.isupper=%s' % prev_word.isupper(),\n",
        "      'prev_word.isdigit=%s' % prev_word.isdigit(),\n",
        "      'prev_words.startsWithCapital=%s' % prev_word[0].isupper()\n",
        "    ])\n",
        "  else:\n",
        "    features.append('BEG')\n",
        "\n",
        "  if(pos == len(sentence)-1):\n",
        "    features.append('END')\n",
        "\n",
        "  return features"
      ],
      "execution_count": 15,
      "outputs": []
    },
    {
      "cell_type": "markdown",
      "metadata": {
        "id": "FAS3xt0u-r89"
      },
      "source": [
        "#Computing Features"
      ]
    },
    {
      "cell_type": "markdown",
      "metadata": {
        "id": "wQ_ByE1ladpo"
      },
      "source": [
        "Define a function to get features for a sentence using the already defined 'getFeaturesForOneWord' function"
      ]
    },
    {
      "cell_type": "code",
      "metadata": {
        "id": "KPrh_4F9RCgb"
      },
      "source": [
        "# Define a function to get features for a sentence\n",
        "# using the 'getFeaturesForOneWord' function.\n"
      ],
      "execution_count": null,
      "outputs": []
    },
    {
      "cell_type": "markdown",
      "metadata": {
        "id": "PZwEnrYraqi7"
      },
      "source": [
        "Define function to get the labels for a sentence."
      ]
    },
    {
      "cell_type": "code",
      "metadata": {
        "id": "N7Tt2NncirYD"
      },
      "source": [
        "# Define a function to get the labels for a sentence\n",
        "def get_features_for_one_sentence(sentence):\n",
        "  words = sentence.split()\n",
        "  return [get_features_for_one_word(words, pos) for pos in range(len(words))]\n",
        "\n",
        "def getLabelsInListForOneSentence(labels):\n",
        "  return labels.split()\n"
      ],
      "execution_count": 18,
      "outputs": []
    },
    {
      "cell_type": "markdown",
      "metadata": {
        "id": "ZHCv5BWRTQb9"
      },
      "source": [
        "Example features for a sentence\n"
      ]
    },
    {
      "cell_type": "code",
      "metadata": {
        "id": "1RzuYcYgSc_x",
        "outputId": "8a53477d-cb64-4f59-ddc3-3c4274ea469e",
        "colab": {
          "base_uri": "https://localhost:8080/"
        }
      },
      "source": [
        "# Apply function 'getFeaturesForOneSentence' to get features on a single sentence which is at index value 5 in train_sentence\n",
        "get_features_for_one_sentence(train_sentences[5])\n",
        "\n"
      ],
      "execution_count": 17,
      "outputs": [
        {
          "output_type": "execute_result",
          "data": {
            "text/plain": [
              "[['word.lower=a',\n",
              "  'word[-3:]=a',\n",
              "  'word[-2:]=a',\n",
              "  'word.isupper=False',\n",
              "  'word.isdigit=False',\n",
              "  'word.startsWithCapital=False',\n",
              "  'BEG'],\n",
              " ['word.lower=place',\n",
              "  'word[-3:]=ace',\n",
              "  'word[-2:]=ce',\n",
              "  'word.isupper=False',\n",
              "  'word.isdigit=False',\n",
              "  'word.startsWithCapital=False',\n",
              "  'prev_word.lower=a',\n",
              "  'prev_word.isupper=False',\n",
              "  'prev_word.isdigit=False',\n",
              "  'prev_words.startsWithCapital=False'],\n",
              " ['word.lower=that',\n",
              "  'word[-3:]=hat',\n",
              "  'word[-2:]=at',\n",
              "  'word.isupper=False',\n",
              "  'word.isdigit=False',\n",
              "  'word.startsWithCapital=False',\n",
              "  'prev_word.lower=place',\n",
              "  'prev_word.isupper=False',\n",
              "  'prev_word.isdigit=False',\n",
              "  'prev_words.startsWithCapital=False'],\n",
              " ['word.lower=serves',\n",
              "  'word[-3:]=ves',\n",
              "  'word[-2:]=es',\n",
              "  'word.isupper=False',\n",
              "  'word.isdigit=False',\n",
              "  'word.startsWithCapital=False',\n",
              "  'prev_word.lower=that',\n",
              "  'prev_word.isupper=False',\n",
              "  'prev_word.isdigit=False',\n",
              "  'prev_words.startsWithCapital=False'],\n",
              " ['word.lower=soft',\n",
              "  'word[-3:]=oft',\n",
              "  'word[-2:]=ft',\n",
              "  'word.isupper=False',\n",
              "  'word.isdigit=False',\n",
              "  'word.startsWithCapital=False',\n",
              "  'prev_word.lower=serves',\n",
              "  'prev_word.isupper=False',\n",
              "  'prev_word.isdigit=False',\n",
              "  'prev_words.startsWithCapital=False'],\n",
              " ['word.lower=serve',\n",
              "  'word[-3:]=rve',\n",
              "  'word[-2:]=ve',\n",
              "  'word.isupper=False',\n",
              "  'word.isdigit=False',\n",
              "  'word.startsWithCapital=False',\n",
              "  'prev_word.lower=soft',\n",
              "  'prev_word.isupper=False',\n",
              "  'prev_word.isdigit=False',\n",
              "  'prev_words.startsWithCapital=False'],\n",
              " ['word.lower=ice',\n",
              "  'word[-3:]=ice',\n",
              "  'word[-2:]=ce',\n",
              "  'word.isupper=False',\n",
              "  'word.isdigit=False',\n",
              "  'word.startsWithCapital=False',\n",
              "  'prev_word.lower=serve',\n",
              "  'prev_word.isupper=False',\n",
              "  'prev_word.isdigit=False',\n",
              "  'prev_words.startsWithCapital=False'],\n",
              " ['word.lower=cream',\n",
              "  'word[-3:]=eam',\n",
              "  'word[-2:]=am',\n",
              "  'word.isupper=False',\n",
              "  'word.isdigit=False',\n",
              "  'word.startsWithCapital=False',\n",
              "  'prev_word.lower=ice',\n",
              "  'prev_word.isupper=False',\n",
              "  'prev_word.isdigit=False',\n",
              "  'prev_words.startsWithCapital=False',\n",
              "  'END']]"
            ]
          },
          "metadata": {},
          "execution_count": 17
        }
      ]
    },
    {
      "cell_type": "markdown",
      "metadata": {
        "id": "kf6NcY2YdPW2"
      },
      "source": [
        "Get the features for sentences of X_train and X_test and get the labels of Y_train and Y_test data."
      ]
    },
    {
      "cell_type": "code",
      "metadata": {
        "id": "G0hQZN9TSjMb"
      },
      "source": [
        "X_train = [get_features_for_one_sentence(sentence) for sentence in train_sentences]\n",
        "y_train = [getLabelsInListForOneSentence(labels) for labels in train_labels]\n",
        "\n",
        "X_test = [get_features_for_one_sentence(sentence) for sentence in test_sentences]\n",
        "y_test = [getLabelsInListForOneSentence(labels) for labels in test_labels]"
      ],
      "execution_count": 19,
      "outputs": []
    },
    {
      "cell_type": "markdown",
      "source": [],
      "metadata": {
        "id": "xbA4k-uCiAhU"
      }
    },
    {
      "cell_type": "markdown",
      "metadata": {
        "id": "i4upm9ar-iKc"
      },
      "source": [
        "#CRF Model Training\n",
        "\n",
        " Now we have all the information we need to train our CRF. Let us see how we can do that."
      ]
    },
    {
      "cell_type": "code",
      "metadata": {
        "id": "Kwm-aTb7hftp"
      },
      "source": [
        "import sklearn_crfsuite\n",
        "\n",
        "from sklearn_crfsuite import metrics"
      ],
      "execution_count": null,
      "outputs": []
    },
    {
      "cell_type": "markdown",
      "metadata": {
        "id": "EudVs1-uPHFs"
      },
      "source": [
        "We create a CRF object and passtraining data to it. The model then \"trains\" and learns the weights for feature functions."
      ]
    },
    {
      "cell_type": "code",
      "metadata": {
        "id": "XuKjdgGwhM_e"
      },
      "source": [
        "# Build the CRF model.\n"
      ],
      "execution_count": null,
      "outputs": []
    },
    {
      "cell_type": "markdown",
      "metadata": {
        "id": "13ziiBZecMUJ"
      },
      "source": [
        "#Model Testing and Evaluation\n",
        "The model is trained, let us now see how good it performs on the test data."
      ]
    },
    {
      "cell_type": "code",
      "metadata": {
        "id": "E75RH6VujmAs"
      },
      "source": [
        "# Calculate the f1 score using the test data\n"
      ],
      "execution_count": null,
      "outputs": []
    },
    {
      "cell_type": "code",
      "metadata": {
        "id": "S8sfl1j-k3jw"
      },
      "source": [
        "# Print the orginal labels and predicted labels for the sentence  in test data, which is at index value 10.\n"
      ],
      "execution_count": null,
      "outputs": []
    },
    {
      "cell_type": "markdown",
      "metadata": {
        "id": "IxSGnW9bFrxV"
      },
      "source": [
        "#Transitions Learned by CRF"
      ]
    },
    {
      "cell_type": "code",
      "metadata": {
        "id": "AoaKikLDRunC"
      },
      "source": [
        "from util import print_top_likely_transitions\n",
        "from util import print_top_unlikely_transitions"
      ],
      "execution_count": null,
      "outputs": []
    },
    {
      "cell_type": "code",
      "metadata": {
        "id": "4zU4ZHyUSymU"
      },
      "source": [
        "print_top_likely_transitions(crf.transition_features_)"
      ],
      "execution_count": null,
      "outputs": []
    },
    {
      "cell_type": "code",
      "metadata": {
        "id": "0JgRe2HES0t1"
      },
      "source": [
        "print_top_unlikely_transitions(crf.transition_features_)"
      ],
      "execution_count": null,
      "outputs": []
    },
    {
      "cell_type": "code",
      "metadata": {
        "id": "3X1oXlQ3IMlZ"
      },
      "source": [],
      "execution_count": null,
      "outputs": []
    }
  ]
}